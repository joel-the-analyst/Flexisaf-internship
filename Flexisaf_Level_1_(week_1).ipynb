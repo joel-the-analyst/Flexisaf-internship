{
  "nbformat": 4,
  "nbformat_minor": 0,
  "metadata": {
    "colab": {
      "provenance": []
    },
    "kernelspec": {
      "name": "python3",
      "display_name": "Python 3"
    },
    "language_info": {
      "name": "python"
    }
  },
  "cells": [
    {
      "cell_type": "markdown",
      "source": [
        "# **Game of Rock, Paper, Scissors.**"
      ],
      "metadata": {
        "id": "Xd71Irs0Hi9d"
      }
    },
    {
      "cell_type": "code",
      "source": [
        "# Possible options\n",
        "options = [\"rock\", \"paper\", \"scissors\"]\n",
        "\n",
        "# User's Choice\n",
        "while True:\n",
        "  user_choice = input(\"Enter your choice (rock, paper, scissors):\")\n",
        "  if user_choice in options:\n",
        "    break\n",
        "  else:\n",
        "    print(\"Invalid choice. Please choose rock, paper or scissors\")\n",
        "\n",
        "print(f\"user's choice:{user_choice}\")\n",
        "\n",
        "# import the random module\n",
        "import random\n",
        "\n",
        "# computer's choice\n",
        "computer_choice = random.choice(options)\n",
        "print(f\"computer's choice:{computer_choice}\")\n",
        "\n",
        "# Determine the winner\n",
        "if user_choice == computer_choice:\n",
        "  print(\"It's a tie!\")\n",
        "elif user_choice == \"rock\" and computer_choice == \"scissors\":\n",
        "  print(\"You win!\")\n",
        "elif user_choice == \"paper\" and computer_choice == \"rock\":\n",
        "  print(\"You win!\")\n",
        "elif user_choice == \"scissors\" and computer_choice == \"paper\":\n",
        "  print(\"You win!\")\n",
        "else:\n",
        "  print(\"You lose!\")"
      ],
      "metadata": {
        "colab": {
          "base_uri": "https://localhost:8080/"
        },
        "id": "1pli2g7uHu5m",
        "outputId": "7e1df7f1-ee8f-4bd0-d82c-b402240e3cf2"
      },
      "execution_count": null,
      "outputs": [
        {
          "output_type": "stream",
          "name": "stdout",
          "text": [
            "Enter your choice (rock, paper, scissors):scissors\n",
            "user's choice:scissors\n",
            "computer's choice:scissors\n",
            "It's a tie!\n"
          ]
        }
      ]
    }
  ]
}